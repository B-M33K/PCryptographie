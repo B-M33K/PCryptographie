{
  "nbformat": 4,
  "nbformat_minor": 0,
  "metadata": {
    "colab": {
      "provenance": []
    },
    "kernelspec": {
      "name": "python3",
      "display_name": "Python 3"
    },
    "language_info": {
      "name": "python"
    }
  },
  "cells": [
    {
      "cell_type": "code",
      "execution_count": 11,
      "metadata": {
        "id": "u6gqufjnLQa9"
      },
      "outputs": [],
      "source": [
        "import numpy as np"
      ]
    },
    {
      "cell_type": "code",
      "source": [
        "alpha = [chr(x) for x in range(97, 123)]\n",
        "num = list(range(0, 26))"
      ],
      "metadata": {
        "id": "O338NmfPnkIR"
      },
      "execution_count": 12,
      "outputs": []
    },
    {
      "cell_type": "code",
      "source": [
        "alpha_to_num = {key : value for (key, value) in zip(alpha, num)}\n",
        "print(alpha_to_num)"
      ],
      "metadata": {
        "colab": {
          "base_uri": "https://localhost:8080/"
        },
        "id": "DPcF9O0Zm2GQ",
        "outputId": "db69bf1b-c2db-452b-897c-2865d0c51066"
      },
      "execution_count": 13,
      "outputs": [
        {
          "output_type": "stream",
          "name": "stdout",
          "text": [
            "{'a': 0, 'b': 1, 'c': 2, 'd': 3, 'e': 4, 'f': 5, 'g': 6, 'h': 7, 'i': 8, 'j': 9, 'k': 10, 'l': 11, 'm': 12, 'n': 13, 'o': 14, 'p': 15, 'q': 16, 'r': 17, 's': 18, 't': 19, 'u': 20, 'v': 21, 'w': 22, 'x': 23, 'y': 24, 'z': 25}\n"
          ]
        }
      ]
    },
    {
      "cell_type": "code",
      "source": [
        "num_to_alpha = {key : value for (key, value) in zip(num, alpha)}\n",
        "print(num_to_alpha)"
      ],
      "metadata": {
        "colab": {
          "base_uri": "https://localhost:8080/"
        },
        "id": "vvr1otvEm-Y3",
        "outputId": "4dff99af-a100-4fa6-ec02-9fadb72cc796"
      },
      "execution_count": 14,
      "outputs": [
        {
          "output_type": "stream",
          "name": "stdout",
          "text": [
            "{0: 'a', 1: 'b', 2: 'c', 3: 'd', 4: 'e', 5: 'f', 6: 'g', 7: 'h', 8: 'i', 9: 'j', 10: 'k', 11: 'l', 12: 'm', 13: 'n', 14: 'o', 15: 'p', 16: 'q', 17: 'r', 18: 's', 19: 't', 20: 'u', 21: 'v', 22: 'w', 23: 'x', 24: 'y', 25: 'z'}\n"
          ]
        }
      ]
    },
    {
      "cell_type": "code",
      "source": [
        "def get_key(plain_text) :\n",
        "  l = len(plain_text)\n",
        "  key_list = []\n",
        "  i = 0\n",
        "  while i < l :\n",
        "    key_list.append(np.random.randint(26))\n",
        "    i += 1\n",
        "  key = ''.join([num_to_alpha[x] for x in key_list])\n",
        "  return key"
      ],
      "metadata": {
        "id": "O5kvR7r6nAvf"
      },
      "execution_count": 16,
      "outputs": []
    },
    {
      "cell_type": "code",
      "source": [
        "def masque_jetable_encryption(plain_text) :\n",
        "  key = get_key(plain_text)\n",
        "  cypher_text = ''.join([num_to_alpha[(alpha_to_num[i] + alpha_to_num[j]) % 26] for (i, j) in zip(plain_text, key)])\n",
        "  return cypher_text, key"
      ],
      "metadata": {
        "id": "wsQ20EMOnSIn"
      },
      "execution_count": 24,
      "outputs": []
    },
    {
      "cell_type": "code",
      "source": [
        "def masque_jetable_decryption(cypher_text, key) :\n",
        "  plain_text = ''.join([num_to_alpha[(alpha_to_num[i] - alpha_to_num[j]) % 26] for (i, j) in zip(cypher_text, key)])\n",
        "  return plain_text"
      ],
      "metadata": {
        "id": "jTIc7R0Lr9DG"
      },
      "execution_count": 29,
      "outputs": []
    },
    {
      "cell_type": "code",
      "source": [],
      "metadata": {
        "id": "Y3n6VAiEr06F"
      },
      "execution_count": null,
      "outputs": []
    }
  ]
}