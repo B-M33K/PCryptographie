{
  "cells": [
    {
      "cell_type": "code",
      "execution_count": null,
      "metadata": {
        "id": "5A42x2n3JvRT",
        "outputId": "cab0cd93-94b7-411a-fcec-c76e4c1da11d",
        "colab": {
          "base_uri": "https://localhost:8080/"
        }
      },
      "outputs": [
        {
          "output_type": "stream",
          "name": "stdout",
          "text": [
            "['a', 'b', 'c', 'd', 'e', 'f', 'g', 'h', 'i', 'j', 'k', 'l', 'm', 'n', 'o', 'p', 'q', 'r', 's', 't', 'u', 'v', 'w', 'x', 'y', 'z']\n"
          ]
        }
      ],
      "source": [
        "alpha = [chr(x) for x in range(97, 123)]\n",
        "print(alpha)"
      ]
    },
    {
      "cell_type": "code",
      "source": [
        "num = list(range(0, 26))\n",
        "print(num)"
      ],
      "metadata": {
        "id": "R7iCcHN6J0Bw",
        "outputId": "d4ad8e9f-7db7-4a95-c65a-55e47284df3f",
        "colab": {
          "base_uri": "https://localhost:8080/"
        }
      },
      "execution_count": null,
      "outputs": [
        {
          "output_type": "stream",
          "name": "stdout",
          "text": [
            "[0, 1, 2, 3, 4, 5, 6, 7, 8, 9, 10, 11, 12, 13, 14, 15, 16, 17, 18, 19, 20, 21, 22, 23, 24, 25]\n"
          ]
        }
      ]
    },
    {
      "cell_type": "code",
      "source": [
        "alpha_to_num = {key : value for (key, value) in zip(alpha, num)}\n",
        "num_to_alpha = {key : value for (key, value) in zip(num, alpha)}\n",
        "print(alpha_to_num)\n",
        "print(num_to_alpha)"
      ],
      "metadata": {
        "id": "b174dBRpKGe9",
        "outputId": "1a98c073-f3bf-4002-e33f-58d1738be82b",
        "colab": {
          "base_uri": "https://localhost:8080/"
        }
      },
      "execution_count": null,
      "outputs": [
        {
          "output_type": "stream",
          "name": "stdout",
          "text": [
            "{'a': 0, 'b': 1, 'c': 2, 'd': 3, 'e': 4, 'f': 5, 'g': 6, 'h': 7, 'i': 8, 'j': 9, 'k': 10, 'l': 11, 'm': 12, 'n': 13, 'o': 14, 'p': 15, 'q': 16, 'r': 17, 's': 18, 't': 19, 'u': 20, 'v': 21, 'w': 22, 'x': 23, 'y': 24, 'z': 25}\n",
            "{0: 'a', 1: 'b', 2: 'c', 3: 'd', 4: 'e', 5: 'f', 6: 'g', 7: 'h', 8: 'i', 9: 'j', 10: 'k', 11: 'l', 12: 'm', 13: 'n', 14: 'o', 15: 'p', 16: 'q', 17: 'r', 18: 's', 19: 't', 20: 'u', 21: 'v', 22: 'w', 23: 'x', 24: 'y', 25: 'z'}\n"
          ]
        }
      ]
    },
    {
      "cell_type": "code",
      "source": [
        "def get_autokey(plain_text, key):\n",
        "  l = len(key)\n",
        "  pl = len(plain_text)\n",
        "  if l < pl :\n",
        "    return key + plain_text[:pl - l]\n",
        "  return key"
      ],
      "metadata": {
        "id": "27dqejniKVHN"
      },
      "execution_count": null,
      "outputs": []
    },
    {
      "cell_type": "code",
      "source": [
        "def get_key(plain_text, key):\n",
        "  k = key\n",
        "  l = len(key)\n",
        "  pl = len(plain_text)\n",
        "  while l < pl :\n",
        "    k = 2*k\n",
        "    l = len(k)\n",
        "  return k[:pl]"
      ],
      "metadata": {
        "id": "lPYF_e-aKX9V"
      },
      "execution_count": null,
      "outputs": []
    },
    {
      "cell_type": "code",
      "source": [
        "def encryption(plain_text, key):\n",
        "  encryption_key = get_autokey(plain_text, key)\n",
        "  return ''.join([num_to_alpha[(alpha_to_num[x] + alpha_to_num[y]) % 26] for (x, y) in zip(plain_text, encryption_key)]), encryption_key\n"
      ],
      "metadata": {
        "id": "7myUaBCfMH5-"
      },
      "execution_count": null,
      "outputs": []
    },
    {
      "cell_type": "code",
      "source": [
        "cypher_text, key = encryption('wearediscoveredsaveyourself', 'deceptive')\n",
        "print('cypher_text : ' + cypher_text)\n",
        "print('key : ' + key)"
      ],
      "metadata": {
        "id": "Mavt8g0QMOnE",
        "outputId": "fc8d4d9b-0d28-49cc-f123-97104a232c70",
        "colab": {
          "base_uri": "https://localhost:8080/"
        }
      },
      "execution_count": null,
      "outputs": [
        {
          "output_type": "stream",
          "name": "stdout",
          "text": [
            "cypher_text : zicvtwqngkzeiigasxstslvvwla\n",
            "key : deceptivewearediscoveredsav\n"
          ]
        }
      ]
    },
    {
      "cell_type": "code",
      "source": [
        "def decryption(cypher_text, key):\n",
        "  return ''.join([num_to_alpha[(alpha_to_num[x] - alpha_to_num[y]) % 26] for (x, y) in zip(cypher_text, key)])"
      ],
      "metadata": {
        "id": "qYvzsl4tO9-M"
      },
      "execution_count": null,
      "outputs": []
    },
    {
      "cell_type": "code",
      "source": [
        "plain_text = decryption(cypher_text, key)\n",
        "print(plain_text)"
      ],
      "metadata": {
        "id": "5XPthgy4QrB6",
        "outputId": "25c2abea-d5a8-456b-ebe4-901b4452e091",
        "colab": {
          "base_uri": "https://localhost:8080/"
        }
      },
      "execution_count": null,
      "outputs": [
        {
          "output_type": "stream",
          "name": "stdout",
          "text": [
            "wearediscoveredsaveyourself\n"
          ]
        }
      ]
    },
    {
      "cell_type": "code",
      "source": [],
      "metadata": {
        "id": "Vog823WtQz8R"
      },
      "execution_count": null,
      "outputs": []
    }
  ],
  "metadata": {
    "kernelspec": {
      "display_name": "Python 2.7.16 64-bit",
      "language": "python",
      "name": "python3"
    },
    "language_info": {
      "name": "python",
      "version": "2.7.16"
    },
    "orig_nbformat": 4,
    "vscode": {
      "interpreter": {
        "hash": "beb4f305451b4835b36a63cb1c75e625a7251cf8d76b65be2f5856eee68cb551"
      }
    },
    "colab": {
      "provenance": []
    }
  },
  "nbformat": 4,
  "nbformat_minor": 0
}