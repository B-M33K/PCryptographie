{
 "cells": [
  {
   "cell_type": "code",
   "execution_count": 142,
   "metadata": {},
   "outputs": [],
   "source": [
    "def get_autokey(plain_text, key):\n",
    "    l = len(key)\n",
    "    pl = len(plain_text)\n",
    "    if l < pl :\n",
    "        return key + plain_text[:pl - l]\n",
    "    return key"
   ]
  },
  {
   "cell_type": "code",
   "execution_count": 143,
   "metadata": {},
   "outputs": [],
   "source": [
    "def get_key(plain_text, key):\n",
    "    k = key\n",
    "    l = len(key)\n",
    "    pl = len(plain_text)\n",
    "    while l < pl :\n",
    "        k = 2*k\n",
    "        l = len(k)\n",
    "    return k[:pl]"
   ]
  },
  {
   "cell_type": "code",
   "execution_count": 144,
   "metadata": {},
   "outputs": [],
   "source": [
    "def encryption(plain_text, key):\n",
    "    encryption_key = get_key(plain_text, key)\n",
    "    return ''.join([chr((ord(x) + ord(y)) % 256) for (x, y) in zip(plain_text, encryption_key)]), encryption_key"
   ]
  },
  {
   "cell_type": "code",
   "execution_count": 145,
   "metadata": {},
   "outputs": [
    {
     "name": "stdout",
     "output_type": "stream",
     "text": [
      "cypher_text : ÛÊÆâÙÚÎ×ÈÒÛÕæÎÚ",
      "×ÆÙÊíØë××ÊÏË\n",
      "key : deceptivedeceptivedeceptivedece\n"
     ]
    }
   ],
   "source": [
    "cypher_text, key = encryption('we are discovered save yourself', 'deceptive')\n",
    "print('cypher_text : ' + cypher_text)\n",
    "print('key : ' + key)"
   ]
  },
  {
   "cell_type": "code",
   "execution_count": 146,
   "metadata": {},
   "outputs": [],
   "source": [
    "def decryption(cypher_text, key):\n",
    "    return ''.join([chr((ord(x) - ord(y)) % 256) for (x, y) in zip(cypher_text, key)])"
   ]
  },
  {
   "cell_type": "code",
   "execution_count": 147,
   "metadata": {},
   "outputs": [
    {
     "name": "stdout",
     "output_type": "stream",
     "text": [
      "we are discovered save yourself\n"
     ]
    }
   ],
   "source": [
    "plain_text = decryption(cypher_text, key)\n",
    "print(plain_text)"
   ]
  },
  {
   "cell_type": "code",
   "execution_count": 148,
   "metadata": {},
   "outputs": [],
   "source": [
    "def encrypt_file(file, key) :\n",
    "    f = open(file, 'r')\n",
    "    txt = f.read()\n",
    "    c ,encryption_key= encryption(txt, key)\n",
    "    cypher = open('cypher_text', 'w')\n",
    "    cypher.write(c)\n",
    "    cypher.close()\n",
    "    f.close()\n",
    "    return encryption_key"
   ]
  },
  {
   "cell_type": "code",
   "execution_count": 149,
   "metadata": {},
   "outputs": [],
   "source": [
    "def decrypte_file(file, key) :\n",
    "    f = open(file, 'r')\n",
    "    c = f.read()\n",
    "    m = decryption(c, key)\n",
    "    plain_text = open('plain_text', 'w')\n",
    "    plain_text.write(m)\n",
    "    plain_text.close()\n",
    "    f.close()"
   ]
  },
  {
   "cell_type": "code",
   "execution_count": 150,
   "metadata": {},
   "outputs": [],
   "source": [
    "key = encrypt_file('text', 'bmeek311')"
   ]
  },
  {
   "cell_type": "code",
   "execution_count": null,
   "metadata": {},
   "outputs": [],
   "source": [
    "decrypte_file('cypher_text', key)"
   ]
  }
 ],
 "metadata": {
  "colab": {
   "provenance": []
  },
  "kernelspec": {
   "display_name": "Python 3 (ipykernel)",
   "language": "python",
   "name": "python3"
  },
  "language_info": {
   "codemirror_mode": {
    "name": "ipython",
    "version": 3
   },
   "file_extension": ".py",
   "mimetype": "text/x-python",
   "name": "python",
   "nbconvert_exporter": "python",
   "pygments_lexer": "ipython3",
   "version": "3.9.7"
  },
  "vscode": {
   "interpreter": {
    "hash": "beb4f305451b4835b36a63cb1c75e625a7251cf8d76b65be2f5856eee68cb551"
   }
  }
 },
 "nbformat": 4,
 "nbformat_minor": 4
}
